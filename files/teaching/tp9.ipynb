{
 "cells": [
  {
   "cell_type": "code",
   "execution_count": null,
   "metadata": {},
   "outputs": [],
   "source": [
    "using LinearAlgebra\n",
    "using Plots"
   ]
  },
  {
   "cell_type": "markdown",
   "metadata": {},
   "source": [
    "# <span style=\"color:MediumSlateBlue;font-weight:bold\">Exercice 1 : Puissance itérée</span>\n",
    "\n",
    "Soit $A \\in \\mathbb{M}_{2,2}$ une matrice sous la forme \n",
    "$$\n",
    "    A = P D P^t, \n",
    "$$\n",
    "où $P$ est une matrice orthogonale (ou unitaire (telle que $P^{-1} = P^t$)), et $D = \\begin{pmatrix} 1 & 0 \\\\ 0 & \\lambda \\end{pmatrix}$ est une matrice diagonale avec $0 \\leqslant \\lambda < 1$. On note $p_1$ et $p_2$ les deux colonnes de $P$.\n",
    "\n",
    "1. Complétez le code ci-dessous, qui affiche $p_1$, $p_2$, et pour un vecteur $v$ quelconque, la suite $v$, $A v$, $A^2 v$, etc... Qu'observez-vous ? Donnez une justification mathématique."
   ]
  },
  {
   "cell_type": "code",
   "execution_count": null,
   "metadata": {},
   "outputs": [],
   "source": [
    "## Construction d'une matrice P orthogonale\n",
    "p1 = 2.0 .* (rand(2) .- 0.5) # vous pouvez le fixer si vous voulez\n",
    "p1 ./= norm(p1)\n",
    "p2 = [p1[2],-p1[1]]\n",
    "P = [p1[1] p2[1]; p1[2] p2[2]]\n",
    "\n",
    "## Construction de la matrice D \n",
    "λ = 0.5 \n",
    "D = [1.0 0.0; 0.0 λ]\n",
    "\n",
    "A = P * D * P'\n",
    "\n",
    "v = 2.0 .* (rand(2) .- 0.5)\n",
    "depth = 5 # nombre d'itérations\n",
    "\n",
    "function plot_arrow!(p, arrow; color=:blue, tag=\"\", lw=1)\n",
    "    plot!(p, [0.0,arrow[1]], [0.0,arrow[2]], lw=lw, arrow=true, color=color)\n",
    "    if length(tag) > 0\n",
    "        annotate!(p, arrow[1]+0.1, arrow[2], text(tag, color))\n",
    "    end\n",
    "end\n",
    "\n",
    "p = plot(xlims=[-1.2,1.2], ylims=[-1.2,1.2], legend=false, aspect_ratio=:equal)\n",
    "plot_arrow!(p, p1; tag=\"p₁\", color=:purple, lw=2)\n",
    "plot_arrow!(p, p2; tag=\"p₂\", color=:purple, lw=2)\n",
    "\n",
    "# Ici votre code : on vous demande d'afficher le vecteur v, puis A * v, puis A^2 * v, etc jusqu'a A^depth * v\n",
    "# plot_arrow!(p, v; tag=\"v\")\n",
    "\n",
    "display(p)"
   ]
  },
  {
   "cell_type": "markdown",
   "metadata": {},
   "source": [
    "2. On cherche maintenant à exploiter ce comportement pour reconstruire $p_1$ à partir d'une matrice $A$ donnée. Proposez et implémentez une méthode pour ce faire. "
   ]
  },
  {
   "cell_type": "code",
   "execution_count": null,
   "metadata": {},
   "outputs": [],
   "source": [
    "function get_p1(A::Matrix{Float64})::Vector{Float64}\n",
    "    init = 2.0 .* (rand(2) .- 0.5)\n",
    "    depth = 20\n",
    "    for idepth in 1:depth \n",
    "        # ... ici votre code\n",
    "    end\n",
    "    return # ...\n",
    "end\n",
    "\n",
    "hatp1 = get_p1(A)\n",
    "println(\"p1 : \", p1, \", approximation : \", hatp1)\n",
    "println(\"Erreur sur la direction : \", min(norm(p1 .- hatp1), norm(p1 .+ hatp1)))"
   ]
  },
  {
   "cell_type": "markdown",
   "metadata": {},
   "source": [
    "3. Une fois la direction $p_1$ connue, vous pouvez en déduire la direction $p_2$ par orthogonalité. Comment obtenir une approximation des valeurs propres ? Déduisez-en une fonction donnant une approximation des éléments propres d'une matrice symétrique positive en dimension 2. "
   ]
  },
  {
   "cell_type": "code",
   "execution_count": null,
   "metadata": {},
   "outputs": [],
   "source": [
    "function approx_diagonalisation(A::Matrix{Float64})::Tuple{Vector{Float64},Vector{Float64},Float64,Float64}\n",
    "    p1 = get_p1(A)\n",
    "    p2 = # ... \n",
    "    λ1 = # ...\n",
    "    λ2 = # ...\n",
    "    return p1, p2, λ1, λ2\n",
    "end\n",
    "\n",
    "# Attention, l'algorithme ci-dessus ne marche que pour les matrices dont les valeurs propres sont suffisamment distinctes. \n",
    "# Donc ne testez pas avec la matrice identité\n",
    "\n",
    "hatp1, hatp2, hatλ1, hatλ2 = approx_diagonalisation(A)\n",
    "println(\"Approximation : \")\n",
    "println(\"Premier vecteur propre \", hatp1, \", valeur propre \", hatλ1)\n",
    "println(\"Second  vecteur propre \", hatp2, \", valeur propre \", hatλ2)\n",
    "hatP = [hatp1[1] hatp2[1]; hatp1[2] hatp2[2]]\n",
    "println(\"Erreur sur la reconstruction de A : \", norm(A .- hatP * [hatλ1 0.0; 0.0 hatλ2] * hatP'))\n",
    "\n",
    "# Bonus : comment pourriez-vous généraliser cet algorithme à la dimension 3 ?"
   ]
  },
  {
   "cell_type": "markdown",
   "metadata": {},
   "source": [
    "# <span style=\"color:MediumSlateBlue;font-weight:bold\">Exercice 2 : Décomposition en valeurs singulières</span>\n",
    "\n",
    "Le but de cet exercice est de suivre les étapes de la décomposition en valeurs singulières, en les programmant. On travaillera sur des matrices de rang 2 pour pouvoir utiliser la fonction `approx_diagonalisation` de l'exercice précédent.\n",
    "\n",
    "1. __Étape 1__ : La fonction suivante permute les colonnes de $A$ pour que les deux premières soient linéairement indépendantes. Elle garde en mémoire la permutation sous forme de matrice $\\Pi \\in \\mathbb{M}_{m,m}$. Testez ce code sur les exemples fournis pour pouvoir l'utiliser après."
   ]
  },
  {
   "cell_type": "code",
   "execution_count": null,
   "metadata": {},
   "outputs": [],
   "source": [
    "function permute_columns(A::Matrix{Float64})::Tuple{Matrix{Float64},Matrix{Float64}} # renvoie A permutée et Π\n",
    "    Aperm = copy(A)\n",
    "    m = size(A)[2]\n",
    "    Π = collect(I(m))\n",
    "    # Trouver la première colonne de norme > 0\n",
    "    normes_colonnes = [norm(A[:,i]) for i in 1:m]\n",
    "    index_first = findfirst(normes_colonnes .> 1e-6)\n",
    "    if index_first != 1\n",
    "        # permutation des colonnes de A\n",
    "        sauvegarde = copy(Aperm[:,1])\n",
    "        Aperm[:,1] .= Aperm[:,index_first]\n",
    "        Aperm[:,index_first] .= sauvegarde\n",
    "        # enregistrement dans la matrice de permutation \n",
    "        sauvegarde = copy(Π[:,1])\n",
    "        Π[:,1] .= Π[:,index_first]\n",
    "        Π[:,index_first] .= sauvegarde\n",
    "    end\n",
    "    # Trouver la première colonne linéairement indépendante \n",
    "    # i.e. la première formant un angle strictement entre 0 et π avec la première colonne \n",
    "    # donc telle que cos(angle(q,p)) = <q,p> / (|p| |q|) ∈ ]-1,1[.\n",
    "    is_indep = [(norm(Aperm[:,i]) > 1e-6) && (abs((Aperm[:,i]' * Aperm[:,1]) / (norm(Aperm[:,1]) * norm(Aperm[:,i]))) < 1.0-1e-6) for i in 1:m]\n",
    "    index_second = findfirst(is_indep)\n",
    "    if index_second != 2\n",
    "        # permutation des colonnes de A\n",
    "        sauvegarde = copy(Aperm[:,2])\n",
    "        Aperm[:,2] .= Aperm[:,index_second]\n",
    "        Aperm[:,index_second] .= sauvegarde\n",
    "        # enregistrement dans la matrice de permutation \n",
    "        sauvegarde = copy(Π[:,2])\n",
    "        Π[:,2] .= Π[:,index_second]\n",
    "        Π[:,index_second] .= sauvegarde\n",
    "    end\n",
    "    return Aperm, Π\n",
    "end\n",
    "\n",
    "# Testez avec les exemples suivants, et ceux que vous pourrez imaginer\n",
    "# A = [1.0 0.0 1.0 1.0 0.0; 0.0 1.0 0.0 1.0 1.0] # déjà dans le bon ordre \n",
    "# A = [0.0 1.0 0.0; 0.0 0.0 1.0; 0.0 0.0 0.1] # première colonne nulle\n",
    "# A = [0.0 0.0 0.0 1.0 0.5; 1.0 0.5 0.0 0.0 0.3] # première colonne bien placée, 4e colonne est celle voulue en 2e position\n",
    "# A = [0.0 0.0 0.0 1.0 0.5; 0.0 0.5 0.0 0.0 0.3] # première colonne mal placée, 4e colonne est celle voulue en 2e position\n",
    "\n",
    "Aperm, Π = permute_columns(A)\n",
    "display(A)\n",
    "display(Aperm)\n",
    "display(Π)\n",
    "display(A * Π)"
   ]
  },
  {
   "cell_type": "markdown",
   "metadata": {},
   "source": [
    "2. __Étape 2__ : Pour s'éviter les répétitions, on code une fonction qui fera les deux factorisations QR dont nous aurons besoin. Implémentez la fonction ci-dessous, qui prend en entrée une matrice rectangulaire $A \\in \\mathbb{M}_{\\ell,c}$ dont on sait \n",
    "- qu'elle a au moins deux colonnes, \n",
    "- que les deux premières sont linéairement indépendantes, \n",
    "et renvoie des matrices $Q \\in \\mathbb{R}_{\\ell,2}$ et $R \\in \\mathbb{M}_{2,c}$ telles que $A = Q R$, la matrice $Q$ satisfait $Q^t Q = \\mathbb{I}_2$, et $R_{2,1} = 0$."
   ]
  },
  {
   "cell_type": "code",
   "execution_count": null,
   "metadata": {},
   "outputs": [],
   "source": [
    "function debut_QR(A::Matrix{Float64})::Tuple{Matrix{Float64},Matrix{Float64}}\n",
    "    (l,c) = size(A)\n",
    "    Q = zeros(l,2)\n",
    "    R = zeros(2,c)\n",
    "\n",
    "    # ici votre code \n",
    "\n",
    "    return Q, R\n",
    "end\n",
    "\n",
    "Q, R = debut_QR(Aperm)\n",
    "println(\"Erreur entre Aperm et Q*R : \", norm(Aperm .- Q*R))\n",
    "display(Aperm)\n",
    "display(Q)\n",
    "display(R)"
   ]
  },
  {
   "cell_type": "markdown",
   "metadata": {},
   "source": [
    "3. Complétez l'étape 2 en décomposant $A_{\\text{perm}}$ sous la forme $Q Sᵗ Tᵗ$, d'abord en appliquant la fonction précédente à $A_{\\text{perm}}$ pour obtenir $Q R$, puis à $Rᵗ$ pour obtenir $S$ et $T$. "
   ]
  },
  {
   "cell_type": "code",
   "execution_count": null,
   "metadata": {},
   "outputs": [],
   "source": [
    "function get_QST(A::Matrix{Float64})::Tuple{Matrix{Float64},Matrix{Float64},Matrix{Float64}}\n",
    "    Q, R = # ...\n",
    "    Rtranspose = collect(R')\n",
    "    T, S = # ...\n",
    "    return Q, S, T \n",
    "end\n",
    "\n",
    "Q, S, T = get_QST(Aperm)\n",
    "println(\"Erreur entre Aperm et Q * S' * T' : \", norm(Aperm .- Q * S' * T'))"
   ]
  },
  {
   "cell_type": "markdown",
   "metadata": {},
   "source": [
    "4. __Étape 3__ : Utilisez le code de l'exercice précédent pour diagonaliser $S S^{t}$ en $P D P^{t}$. En déduire la matrice $\\Sigma = \\sqrt{D}$.  "
   ]
  },
  {
   "cell_type": "code",
   "execution_count": null,
   "metadata": {},
   "outputs": [],
   "source": [
    "function get_PΣ(S::Matrix{Float64})::Tuple{Matrix{Float64},Matrix{Float64}} # sorties : P, Σ\n",
    "    SStranspose = collect(S * S')\n",
    "    p1, p2, λ1, λ2 = # ...\n",
    "    P = # ...\n",
    "    Σ = # ...\n",
    "    return P, Σ\n",
    "end\n",
    "\n",
    "P, Σ = get_PΣ(S)\n",
    "println(\"Erreur entre S Sᵗ et P Σ^2 Pᵗ : \", norm(S * S' .- P * Σ * Σ * P'))\n",
    "display(S)"
   ]
  },
  {
   "cell_type": "markdown",
   "metadata": {},
   "source": [
    "5. __Étape 4__ : Complétez l'implémentation de la décomposition complète en calculant les matrices $U$ et $V$ via aux formules du cours. Vous pouvez coder à la main l'inversion de la matrice $S \\in \\mathbb{M}_{2,2}$. N'oubliez pas d'appliquer la permutation inverse à la fin de l'étape 1. Testez votre décomposition sur les exemples fournis."
   ]
  },
  {
   "cell_type": "code",
   "execution_count": null,
   "metadata": {},
   "outputs": [],
   "source": [
    "function my_decomposition(A::Matrix{Float64})::Tuple{Matrix{Float64},Matrix{Float64},Matrix{Float64}} # sorties : U, Σ, V\n",
    "    Aperm, Π = permute_columns(A)\n",
    "    Q, S, T = get_QST(Aperm)\n",
    "    P, Σ = get_PΣ(S)\n",
    "\n",
    "    Sm1 = # votre code pour l'inverse de S \n",
    "    U = Q * Sm1 * P * Σ\n",
    "    V = Π * T * P\n",
    "    return U, Σ, V\n",
    "end\n",
    "\n",
    "###### Banque de matrices test \n",
    "# A = [1.0 0.0 1.0 1.0 0.0; 0.0 1.0 0.0 1.0 1.0] \n",
    "# A = [0.0 1.0 0.0; 0.0 0.0 1.0; 0.0 0.0 0.1] \n",
    "# A = [0.0 0.0 0.0 1.0 0.5; 1.0 0.5 0.0 0.0 0.3] \n",
    "# A = [0.0 0.0 0.0 1.0 0.5; 0.0 0.5 0.0 0.0 0.3] \n",
    "function get_randtest()::Matrix{Float64}\n",
    "    n = rand(2:20)\n",
    "    m = rand(2:20)\n",
    "    T1 = 3.0 .* (rand(n,2) .- 0.5)\n",
    "    pos1 = rand(1:(m-1))\n",
    "    pos2 = rand((pos1+1):m)\n",
    "    A = zeros(n,m)\n",
    "    A[:,pos1] = T1[:,1]\n",
    "    A[:,pos2] = T1[:,2]\n",
    "    for i in 1:m\n",
    "        if i ∉ [pos1,pos2]\n",
    "            A[:,i] = T1 * rand(2)\n",
    "        end\n",
    "    end\n",
    "    return A\n",
    "end\n",
    "A = get_randtest()\n",
    "\n",
    "U, Σ, V = my_decomposition(A)\n",
    "display(U)\n",
    "display(Σ)\n",
    "display(V)\n",
    "println(\"Erreur entre A et U * Σ * Vᵗ : \", norm(A .- U * Σ * V'))"
   ]
  }
 ],
 "metadata": {
  "kernelspec": {
   "display_name": "Julia 1.11.2",
   "language": "julia",
   "name": "julia-1.11"
  },
  "language_info": {
   "file_extension": ".jl",
   "mimetype": "application/julia",
   "name": "julia",
   "version": "1.11.2"
  }
 },
 "nbformat": 4,
 "nbformat_minor": 2
}
