{
 "cells": [
  {
   "cell_type": "code",
   "execution_count": null,
   "metadata": {},
   "outputs": [],
   "source": [
    "using LinearAlgebra\n",
    "using Plots"
   ]
  },
  {
   "cell_type": "markdown",
   "metadata": {},
   "source": [
    "# <span style=\"color:MediumSlateBlue;font-weight:bold\">Exercice 1 : algorithme de remontée</span>\n",
    "\n",
    "Soit $A$ une matrice triangulaire supérieure non dégénérée, c'est-à-dire que \n",
    "- tous les termes $A_{ij}$ pour $j < i$ sont nuls (les termes en-dessous de la diagonale), \n",
    "- tous les termes $A_{ii}$ sont différents de 0. \n",
    "\n",
    "1. Calculez à la main le déterminant de $A$. Peut-on résoudre $A x = b$ ?\n",
    "2. Implémentez l'algorithme de remontée, qui résout le système linéaire $A x = b$ en partant de la dernière ligne pour remonter jusqu'à la première. Explicitement, \n",
    "$$\n",
    "    % \\begin{pmatrix}\n",
    "    %     A_{1,1} & 0 & 0 & \\cdots & 0 \\\\\n",
    "    %     A_{2,1} & A_{2,2} & 0 & & 0 \\\\\n",
    "    %     \\vdots & & \\ddots & & \\vdots \\\\\n",
    "    %     A_{n-1,1} & A_{n-1,2} & \\cdots & A_{n-1,n-1} & 0 \\\\\n",
    "    %     A_{n,1} & A_{n,2} & \\cdots & A_{n,n-1} & A_{n,n}\n",
    "    % \\end{pmatrix}\n",
    "    \\begin{pmatrix}\n",
    "        A_{1,1} & A_{1,2} & A_{1,3} & \\cdots & A_{1,n} \\\\\n",
    "        0 & A_{2,2} & A_{2,3} & & A_{2,n} \\\\\n",
    "        \\vdots & & \\ddots & & \\vdots \\\\\n",
    "        0 & 0 & \\cdots & A_{n-1,n-1} & A_{n-1,n} \\\\\n",
    "        0 & 0 & \\cdots & 0 & A_{n,n}\n",
    "    \\end{pmatrix}\n",
    "    \\begin{pmatrix}\n",
    "        x_1 \\\\\n",
    "        x_2 \\\\\n",
    "        \\vdots \\\\ \n",
    "        x_{n-1} \\\\\n",
    "        x_n \n",
    "    \\end{pmatrix}\n",
    "    =\n",
    "    \\begin{pmatrix}\n",
    "        b_1 \\\\\n",
    "        b_2 \\\\\n",
    "        \\vdots \\\\ \n",
    "        b_{n-1} \\\\\n",
    "        b_n \n",
    "    \\end{pmatrix}.\n",
    "$$"
   ]
  },
  {
   "cell_type": "code",
   "execution_count": null,
   "metadata": {},
   "outputs": [],
   "source": [
    "function remontee(A::Matrix{Float64}, b::Vector{Float64})::Vector{Float64}\n",
    "    n = length(b)\n",
    "    x = zeros(n) # result\n",
    "    # Here your code\n",
    "    return x\n",
    "end\n",
    "\n",
    "# Bonus : implementez la fonction descente \n",
    "# function descente(A::Matrix{Float64}, b::Vector{Float64})::Vector{Float64}\n",
    "#     # Here your code \n",
    "# end\n",
    "\n",
    "# A = [1.0 0.0; 1.0 1.0]\n",
    "# x = descente(A,b)\n",
    "A = [1.0 1.0; 0.0 1.0]\n",
    "b = [2.0; -1.0]\n",
    "x = remontee(A,b)\n",
    "println(\"x : \", x)"
   ]
  },
  {
   "cell_type": "markdown",
   "metadata": {},
   "source": [
    "# <span style=\"color:MediumSlateBlue;font-weight:bold\">Exercice 2 : factorisation QR</span>\n",
    "\n",
    "Soit $A : \\mathbb{R}^n \\to \\mathbb{R}^n$ une matrice. La factorisation QR cherche une représentation de $A$ sous la forme $A = Q R$, où\n",
    "- $Q$ est une matrice orthogonale/unitaire, i.e. $Q^{-1} = Q^t$, ce qui revient à dire que les colonnes de $Q$ forment une base orthonormée ;\n",
    "- $R$ est une matrice triangulaire supérieure. \n",
    "\n",
    "On suppose $A$ inversible. Ses colonnes $(a_1, \\dots, a_n)$ forment donc une famille libre. La factorisation QR revient à orthonormaliser cette famille. L'algorithme fonctionne ainsi :\n",
    "- Décomposons la matrice $Q$ en ses colonnes $(q_1,\\cdots,q_n)$. La première colonne de $Q$ est une renormalisation de la première colonne de $A$. On pose donc \n",
    "$$\n",
    "    q_1 = \\frac{a_1}{\\|a_1\\|}, \\qquad\n",
    "    R = \\begin{pmatrix} \\|a_1\\| & & & \\\\ 0 & & & \\cdots \\\\ \\vdots & & & \\\\ 0 & & & \\end{pmatrix}\n",
    "$$\n",
    "On vérifie bien que la première colonne de la matrice $Q R$ est égale à $a_1$. \n",
    "- La deuxième colonne $a_2$ n'est pas colinéaire à $a_1$, mais peut ne pas être orthogonale. On lui enlève donc sa composante colinéaire à $a_1$, puis on la renormalise. Précisément, \n",
    "$$\n",
    "    \\tilde{a_2} = a_2 - \\left<a_2, \\frac{a_1}{\\|a_1\\|}\\right> \\frac{a_1}{\\|a_1\\|}, \n",
    "    \\qquad \n",
    "    q_2 = \\frac{\\tilde{a_2}}{\\|\\tilde{a_2}\\|}.\n",
    "$$\n",
    "1. Complétez la deuxième colonne de la matrice $R$. \n",
    "2. Complétez l'algorithme jusqu'à la dernière colonne. \n",
    "3. Implémentez la factorisation QR. "
   ]
  },
  {
   "cell_type": "code",
   "execution_count": null,
   "metadata": {},
   "outputs": [],
   "source": [
    "function factorisation_QR(A::Matrix{Float64})::Tuple{Matrix{Float64},Matrix{Float64}}\n",
    "    n = size(A)[1]\n",
    "    Q = zeros(n,n)\n",
    "    R = zeros(n,n)\n",
    "    if abs(det(A)) < 1e-6\n",
    "        throw(Error(\"la matrice A n'est pas inversible\"))\n",
    "    else\n",
    "        for i in 1:n\n",
    "            qi = copy(A[:,i])\n",
    "            for j in 1:i-1\n",
    "                R[j,i] = # ... \n",
    "                # ici mise a jour de qi \n",
    "            end\n",
    "            R[i,i] = # ...\n",
    "            Q[:,i] .= # ... \n",
    "        end\n",
    "    end\n",
    "    return Q, R\n",
    "end\n",
    "\n",
    "n = 3\n",
    "A = rand(n,n)\n",
    "Q, R = factorisation_QR(A)\n",
    "display(R)\n",
    "\n",
    "println(\"Erreur entre Id et Qᵗ * Q : \", norm(I(n) .- Q' * Q))\n",
    "println(\"Erreur entre Id et Q * Qᵗ : \", norm(I(n) .- Q * Q'))\n",
    "println(\"Erreur entre A et Q*R : \", norm(A .- Q*R))"
   ]
  },
  {
   "cell_type": "markdown",
   "metadata": {},
   "source": [
    "4. Utilisez cette factorisation, ainsi que l'algorithme de remontée de l'exercice précédent, pour résoudre le système $A x = b$."
   ]
  },
  {
   "cell_type": "code",
   "execution_count": null,
   "metadata": {},
   "outputs": [],
   "source": [
    "n = 9\n",
    "A = rand(n,n)\n",
    "b = rand(n)\n",
    "\n",
    "Q, R = factorisation_QR(A)\n",
    "x = # ...\n",
    "println(\"Erreur entre A x et b : \", norm(A * x .- b))"
   ]
  },
  {
   "cell_type": "markdown",
   "metadata": {
    "vscode": {
     "languageId": "latex"
    }
   },
   "source": [
    "## <span style=\"color:MediumSlateBlue;font-weight:bold\">Exercice 3 (facultatif) : projection sur l'image</span>\n",
    "\n",
    "Soit $A : \\mathbb{R}^n \\to \\mathbb{R}^m$ une matrice, et $b \\in \\mathbb{R}^m$ un vecteur. On cherche à obtenir la projection de $b$ sur l'image de $A$.\n",
    "On rappelle que l'image de $A$ est définie par\n",
    "$$\n",
    "    \\left\\{\\ y \\in \\mathbb{R}^m \\ \\middle|\\ \\exists x \\in \\mathbb{R}^n \\ \\text{avec}\\ y = A x \\ \\right\\}\n",
    "    = \\left\\{\\ A x \\ \\middle|\\ x \\in \\mathbb{R}^n \\ \\right\\}\n",
    "    = \\text{Vect} \\left\\{\\ A e_i \\ \\middle|\\ i \\in \\{1,\\cdots,n\\} \\ \\right\\},\n",
    "$$\n",
    "où $e_i$ est le $i^{\\text{ème}}$ vecteur de la base canonique. \n",
    "1. Soit $b \\in \\mathbb{R}^m$. Proposez et implémentez le calcul de la projection de $b$ sur la droite portée par $A e_i$. On prendra garde à gérer le cas où $A e_i = 0$. Déduisez-en le calcul de la projection de $b$ sur l'orthogonal à $\\text{Vect} \\{A e_i\\}$."
   ]
  },
  {
   "cell_type": "code",
   "execution_count": null,
   "metadata": {},
   "outputs": [],
   "source": [
    "function proj_on_image(A::Matrix{Float64}, ei::Vector{Float64}, b::Vector{Float64})::Vector{Float64}\n",
    "    Aei = A * ei\n",
    "    if norm(Aei) <= 1e-6\n",
    "        return 0.0 .* b \n",
    "    else\n",
    "        return # ici votre code\n",
    "    end\n",
    "end\n",
    "\n",
    "function proj_on_orthogonal(A::Matrix{Float64}, ei::Vector{Float64}, b::Vector{Float64})::Vector{Float64}\n",
    "    return # ici votre code\n",
    "end"
   ]
  },
  {
   "cell_type": "markdown",
   "metadata": {},
   "source": [
    "2. Calculez la projection de $b$ sur l'image de $A$ en lui retranchant sa composante orthogonale à tous les vecteurs $A e_i$."
   ]
  },
  {
   "cell_type": "code",
   "execution_count": null,
   "metadata": {},
   "outputs": [],
   "source": [
    "function proj_on_image(A::Matrix{Float64}, b::Vector{Float64})::Vector{Float64}\n",
    "    n = size(A)[2]\n",
    "    orthb = copy(b)\n",
    "    # ici votre code pour calculer orthb \n",
    "    # indice : vous pouvez construire le vecteur ei via ei = 1.0 .* (1:n == i)\n",
    "    return b .- orthb\n",
    "end"
   ]
  },
  {
   "cell_type": "markdown",
   "metadata": {},
   "source": [
    "3. Testez votre code sur les matrices suivantes."
   ]
  },
  {
   "cell_type": "code",
   "execution_count": null,
   "metadata": {},
   "outputs": [],
   "source": [
    "A1 = zeros(2,1); A1[1] = 1.0; A1[2] = -0.5 # de la dimension 1 vers la dimension 2\n",
    "A2 = [1.0 0.0; 0.0 1.0; 0.0 0.0] # de la dimension 2 vers la dimension 3\n",
    "\n",
    "b1 = [1.0,0.5] # changez à votre guise\n",
    "c1 = proj_on_image(A1, b1)\n",
    "\n",
    "b2 = [1.0,1.0,1.0] # changez également\n",
    "c2 = proj_on_image(A2, b2)\n",
    "\n",
    "### Affichage cas 1\n",
    "p1 = plot(xlims=[-1.0,3.0],ylims=[-1.0,3.0],aspect_ratio=:equal,title=\"Dimension 1 vers dimension 2\")\n",
    "plot!(p1, [-A1[1],2*A1[1]],[-A1[2],2*A1[2]], ls=:dash, label=\"image de A\")\n",
    "plot!(p1, [0.0,b1[1]], [0.0,b1[2]], arrow=true, lw=2, label=\"b original\")\n",
    "plot!(p1, [0.0,c1[1]], [0.0,c1[2]], arrow = true, lw=2, label=\"b projeté\")\n",
    "display(p1)\n",
    "\n",
    "### Affichage cas 2\n",
    "p2 = plot3d(xlims=[-1.0,3.0],ylims=[-1.0,3.0],zlims=[-1.0,3.0],aspect_ratio=:equal,title=\"Dimension 2 vers dimension 3\")\n",
    "xx = range(-1.0,3.0,100); yy = range(-1.0,3.0,100); Im2 = [A2 * [x;y] for x in xx for y in yy]\n",
    "plot!(p2, [z[1] for z in Im2], [z[2] for z in Im2], [z[3] for z in Im2], st=:surface, label=\"image de A\", camera=(30,15),colorbar=false)\n",
    "plot!(p2, [0.0,b2[1]], [0.0,b2[2]], [0.0,b2[3]], lw=2, label=\"b original\")\n",
    "plot!(p2, [0.0,c2[1]], [0.0,c2[2]], [0.0,c2[3]], lw=2, label=\"b projeté\")\n",
    "display(p2)"
   ]
  }
 ],
 "metadata": {
  "kernelspec": {
   "display_name": "Julia 1.10.3",
   "language": "julia",
   "name": "julia-1.10"
  },
  "language_info": {
   "file_extension": ".jl",
   "mimetype": "application/julia",
   "name": "julia",
   "version": "1.10.3"
  }
 },
 "nbformat": 4,
 "nbformat_minor": 2
}
